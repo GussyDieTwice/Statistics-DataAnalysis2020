{
  "nbformat": 4,
  "nbformat_minor": 0,
  "metadata": {
    "colab": {
      "name": "Laboratory_003_Regresion-lineal-simple",
      "provenance": [],
      "collapsed_sections": [],
      "include_colab_link": true
    },
    "kernelspec": {
      "name": "python3",
      "display_name": "Python 3"
    }
  },
  "cells": [
    {
      "cell_type": "markdown",
      "metadata": {
        "id": "view-in-github",
        "colab_type": "text"
      },
      "source": [
        "<a href=\"https://colab.research.google.com/github/GussyDieTwice/Statistics-DataAnalysis2020/blob/main/Laboratory_003_Regresion_lineal_simple.ipynb\" target=\"_parent\"><img src=\"https://colab.research.google.com/assets/colab-badge.svg\" alt=\"Open In Colab\"/></a>"
      ]
    },
    {
      "cell_type": "markdown",
      "metadata": {
        "id": "5MVC9TvdAS6d"
      },
      "source": [
        "Importacion de librerias a utilizar, declaracion de nuestras columnas X y Y, graficacion de los datos."
      ]
    },
    {
      "cell_type": "code",
      "metadata": {
        "colab": {
          "base_uri": "https://localhost:8080/",
          "height": 295
        },
        "id": "bUmFVdmwMAj7",
        "outputId": "af9595a0-6496-4444-eacf-5395f385c19a"
      },
      "source": [
        "import numpy as np\n",
        "import matplotlib.pyplot as plt\n",
        "\n",
        "%matplotlib inline\n",
        "\n",
        "x = np.array([6, 4, 8, 5, 3.5])\n",
        "y = np.array([6.5, 4.5, 7, 5, 4])\n",
        "\n",
        "plt.scatter(x,y)\n",
        "plt.xlabel('x')\n",
        "plt.ylabel('y')\n",
        "plt.title('Grafica 1')\n",
        "plt.show()\n",
        "\n"
      ],
      "execution_count": null,
      "outputs": [
        {
          "output_type": "display_data",
          "data": {
            "image/png": "[encoded data removed]",
            "text/plain": [
              "<Figure size 432x288 with 1 Axes>"
            ]
          },
          "metadata": {
            "tags": [],
            "needs_background": "light"
          }
        }
      ]
    },
    {
      "cell_type": "markdown",
      "metadata": {
        "id": "67t6VTQsAfvC"
      },
      "source": [
        "Calculando los valores necesarios para utilizar en la formula B1 y B0, despues estas respectivamente."
      ]
    },
    {
      "cell_type": "code",
      "metadata": {
        "colab": {
          "base_uri": "https://localhost:8080/"
        },
        "id": "2HLgbCtTOu9g",
        "outputId": "b9750ea8-53b8-43a4-9391-2daffb970213"
      },
      "source": [
        "sumaX = x.sum()\n",
        "sumaY = y.sum()\n",
        "mXY = multiXY(x,y)\n",
        "squareX = alcuadradoX(x)\n",
        "mediaX = media(x)\n",
        "mediaY = media(y)\n",
        "b1 = BOne(sumaX, sumaY, mXY, squareX, x)\n",
        "b0 = BZero(mediaX, mediaY, b1)\n",
        "\n",
        "print(\"El coeficiente es: Y = \",b1,\"x +\",b0)\n",
        "\n"
      ],
      "execution_count": null,
      "outputs": [
        {
          "output_type": "stream",
          "text": [
            "El coeficiente es: Y =  0.6953125 x + 1.7148437500000004\n"
          ],
          "name": "stdout"
        }
      ]
    },
    {
      "cell_type": "code",
      "metadata": {
        "colab": {
          "base_uri": "https://localhost:8080/"
        },
        "id": "4OpC4MA4uJl1",
        "outputId": "f27e6b6d-68d4-490a-f486-67c1d0bc47d0"
      },
      "source": [
        "x2 = np.array([7.5, 8.5, 4.5])\n",
        "y2 = prediccion(b0, b1, x2)\n"
      ],
      "execution_count": null,
      "outputs": [
        {
          "output_type": "stream",
          "text": [
            "[6.9296875, 7.625, 4.84375]\n"
          ],
          "name": "stdout"
        }
      ]
    },
    {
      "cell_type": "code",
      "metadata": {
        "colab": {
          "base_uri": "https://localhost:8080/",
          "height": 295
        },
        "id": "gahUNwes9wZq",
        "outputId": "6b364742-2577-48e3-bbaa-96e377e9d9b0"
      },
      "source": [
        "plt.scatter(x2,y2)\n",
        "plt.xlabel('x2')\n",
        "plt.ylabel('y2')\n",
        "plt.title('Grafica 2')\n",
        "plt.show()"
      ],
      "execution_count": null,
      "outputs": [
        {
          "output_type": "display_data",
          "data": {
            "image/png": "[encoded data removed]",
            "text/plain": [
              "<Figure size 432x288 with 1 Axes>"
            ]
          },
          "metadata": {
            "tags": [],
            "needs_background": "light"
          }
        }
      ]
    },
    {
      "cell_type": "markdown",
      "metadata": {
        "id": "nhTAVgwN_hkL"
      },
      "source": [
        "Funcion que realiza la sumatoria de las multiplicaciones XY."
      ]
    },
    {
      "cell_type": "code",
      "metadata": {
        "id": "nBJtKqs5Q10K"
      },
      "source": [
        "def multiXY(x,y):\n",
        "  sum=0 \n",
        "  for i in range(x.size):\n",
        "    sum = sum + (x[i]*y[i])\n",
        "  return sum"
      ],
      "execution_count": null,
      "outputs": []
    },
    {
      "cell_type": "markdown",
      "metadata": {
        "id": "0-s64WhO_ofX"
      },
      "source": [
        "Funcion que realiza la sumatoria de los cuadrados de X."
      ]
    },
    {
      "cell_type": "code",
      "metadata": {
        "id": "S-hzcuNmfhvK"
      },
      "source": [
        "def alcuadradoX(x):\n",
        "  sum=0\n",
        "  for i in range(x.size):\n",
        "    sum = sum + (x[i] ** 2)\n",
        "  \n",
        "  return sum"
      ],
      "execution_count": null,
      "outputs": []
    },
    {
      "cell_type": "markdown",
      "metadata": {
        "id": "0aXdr-ME_0W7"
      },
      "source": [
        "Funcion que calcula la media de la columna X y la columna Y."
      ]
    },
    {
      "cell_type": "code",
      "metadata": {
        "id": "pw1Fs6mOhOdx"
      },
      "source": [
        "def media(a):\n",
        "  sum = 0\n",
        "  for i in range(a.size):\n",
        "    sum = sum + a[i]\n",
        "  \n",
        "  media = sum/a.size\n",
        "  return media"
      ],
      "execution_count": null,
      "outputs": []
    },
    {
      "cell_type": "markdown",
      "metadata": {
        "id": "5NZlch0n_5eQ"
      },
      "source": [
        "Funcion que calcula B1 con su respectiva formula."
      ]
    },
    {
      "cell_type": "code",
      "metadata": {
        "id": "a0ctfP7SngCm"
      },
      "source": [
        "def BOne(sumaX, sumaY, mXY, squareX, x):\n",
        "  b1 = ((sumaX*sumaY)-(x.size*mXY))/((sumaX**2)-(x.size*squareX))\n",
        "  return b1"
      ],
      "execution_count": null,
      "outputs": []
    },
    {
      "cell_type": "markdown",
      "metadata": {
        "id": "s1Nq1gID_-zm"
      },
      "source": [
        "Funcion que calcula B0 con su respectiva formula."
      ]
    },
    {
      "cell_type": "code",
      "metadata": {
        "id": "8ib8SLGjqZIF"
      },
      "source": [
        "def BZero(mediaX, mediaY, b1):\n",
        "  b0 = mediaY - (b1*mediaX)\n",
        "  return b0"
      ],
      "execution_count": null,
      "outputs": []
    },
    {
      "cell_type": "markdown",
      "metadata": {
        "id": "9Y8jGUEqAHiI"
      },
      "source": [
        "Funcion que realiza la prediccion de la columna Y utilizando la formula obtenida."
      ]
    },
    {
      "cell_type": "code",
      "metadata": {
        "id": "c042o45M6NjK"
      },
      "source": [
        "def prediccion(b0, b1, x2):\n",
        "  y2 = [None]*x2.size\n",
        "  for i in range(x2.size):\n",
        "    y2[i] = (b1*x2[i])+b0\n",
        "  return y2\n",
        "  "
      ],
      "execution_count": null,
      "outputs": []
    }
  ]
}